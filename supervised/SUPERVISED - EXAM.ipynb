{
 "cells": [
  {
   "cell_type": "code",
   "execution_count": 4,
   "id": "1f44e409",
   "metadata": {},
   "outputs": [],
   "source": [
    "list = [3, 4, 5, 20, 5, 25, 1, 3]"
   ]
  },
  {
   "cell_type": "code",
   "execution_count": 5,
   "id": "2e57656f",
   "metadata": {},
   "outputs": [
    {
     "data": {
      "text/plain": [
       "4"
      ]
     },
     "execution_count": 5,
     "metadata": {},
     "output_type": "execute_result"
    }
   ],
   "source": [
    "list.pop(1)"
   ]
  },
  {
   "cell_type": "code",
   "execution_count": 6,
   "id": "bcc0235d",
   "metadata": {},
   "outputs": [
    {
     "data": {
      "text/plain": [
       "[3, 5, 20, 5, 25, 1, 3]"
      ]
     },
     "execution_count": 6,
     "metadata": {},
     "output_type": "execute_result"
    }
   ],
   "source": [
    "list"
   ]
  },
  {
   "cell_type": "code",
   "execution_count": 7,
   "id": "44ad2183",
   "metadata": {},
   "outputs": [
    {
     "ename": "SyntaxError",
     "evalue": "invalid syntax (Temp/ipykernel_13820/1574945845.py, line 5)",
     "output_type": "error",
     "traceback": [
      "\u001b[1;36m  File \u001b[1;32m\"C:\\Users\\HPPAVI~1\\AppData\\Local\\Temp/ipykernel_13820/1574945845.py\"\u001b[1;36m, line \u001b[1;32m5\u001b[0m\n\u001b[1;33m    print z(6)\u001b[0m\n\u001b[1;37m          ^\u001b[0m\n\u001b[1;31mSyntaxError\u001b[0m\u001b[1;31m:\u001b[0m invalid syntax\n"
     ]
    }
   ],
   "source": [
    "y = 8\n",
    "\n",
    "z = lambda x : x * y\n",
    "\n",
    "print z(6)"
   ]
  },
  {
   "cell_type": "code",
   "execution_count": 8,
   "id": "4f81116e",
   "metadata": {},
   "outputs": [],
   "source": [
    "def is_prime(number):\n",
    "    if number <= 1:\n",
    "        return False\n",
    "\n",
    "    for i in range(2, int(number**0.5) + 1):\n",
    "        if number % i == 0:\n",
    "            return False\n",
    "\n",
    "    return True\n"
   ]
  },
  {
   "cell_type": "code",
   "execution_count": 9,
   "id": "c2b7fa3b",
   "metadata": {},
   "outputs": [
    {
     "name": "stdout",
     "output_type": "stream",
     "text": [
      "Number of prime numbers: 2\n"
     ]
    }
   ],
   "source": [
    "numbers = [341, 6547, 97, 56981]\n",
    "prime_count = 0\n",
    "\n",
    "for number in numbers:\n",
    "    if is_prime(number):\n",
    "        prime_count += 1\n",
    "\n",
    "print(\"Number of prime numbers:\", prime_count)\n"
   ]
  },
  {
   "cell_type": "code",
   "execution_count": 11,
   "id": "d6f62349",
   "metadata": {},
   "outputs": [
    {
     "data": {
      "text/html": [
       "<div>\n",
       "<style scoped>\n",
       "    .dataframe tbody tr th:only-of-type {\n",
       "        vertical-align: middle;\n",
       "    }\n",
       "\n",
       "    .dataframe tbody tr th {\n",
       "        vertical-align: top;\n",
       "    }\n",
       "\n",
       "    .dataframe thead th {\n",
       "        text-align: right;\n",
       "    }\n",
       "</style>\n",
       "<table border=\"1\" class=\"dataframe\">\n",
       "  <thead>\n",
       "    <tr style=\"text-align: right;\">\n",
       "      <th></th>\n",
       "      <th>index</th>\n",
       "      <th>company</th>\n",
       "      <th>body-style</th>\n",
       "      <th>wheel-base</th>\n",
       "      <th>length</th>\n",
       "      <th>engine-type</th>\n",
       "      <th>num-of-cylinders</th>\n",
       "      <th>horsepower</th>\n",
       "      <th>average-mileage</th>\n",
       "      <th>price</th>\n",
       "    </tr>\n",
       "  </thead>\n",
       "  <tbody>\n",
       "    <tr>\n",
       "      <th>0</th>\n",
       "      <td>0</td>\n",
       "      <td>alfa-romero</td>\n",
       "      <td>convertible</td>\n",
       "      <td>88.6</td>\n",
       "      <td>168.8</td>\n",
       "      <td>dohc</td>\n",
       "      <td>four</td>\n",
       "      <td>111</td>\n",
       "      <td>21</td>\n",
       "      <td>13495.0</td>\n",
       "    </tr>\n",
       "    <tr>\n",
       "      <th>1</th>\n",
       "      <td>1</td>\n",
       "      <td>alfa-romero</td>\n",
       "      <td>convertible</td>\n",
       "      <td>88.6</td>\n",
       "      <td>168.8</td>\n",
       "      <td>dohc</td>\n",
       "      <td>four</td>\n",
       "      <td>111</td>\n",
       "      <td>21</td>\n",
       "      <td>16500.0</td>\n",
       "    </tr>\n",
       "    <tr>\n",
       "      <th>2</th>\n",
       "      <td>2</td>\n",
       "      <td>alfa-romero</td>\n",
       "      <td>hatchback</td>\n",
       "      <td>94.5</td>\n",
       "      <td>171.2</td>\n",
       "      <td>ohcv</td>\n",
       "      <td>six</td>\n",
       "      <td>154</td>\n",
       "      <td>19</td>\n",
       "      <td>16500.0</td>\n",
       "    </tr>\n",
       "    <tr>\n",
       "      <th>3</th>\n",
       "      <td>3</td>\n",
       "      <td>audi</td>\n",
       "      <td>sedan</td>\n",
       "      <td>99.8</td>\n",
       "      <td>176.6</td>\n",
       "      <td>ohc</td>\n",
       "      <td>four</td>\n",
       "      <td>102</td>\n",
       "      <td>24</td>\n",
       "      <td>13950.0</td>\n",
       "    </tr>\n",
       "    <tr>\n",
       "      <th>4</th>\n",
       "      <td>4</td>\n",
       "      <td>audi</td>\n",
       "      <td>sedan</td>\n",
       "      <td>99.4</td>\n",
       "      <td>176.6</td>\n",
       "      <td>ohc</td>\n",
       "      <td>five</td>\n",
       "      <td>115</td>\n",
       "      <td>18</td>\n",
       "      <td>17450.0</td>\n",
       "    </tr>\n",
       "  </tbody>\n",
       "</table>\n",
       "</div>"
      ],
      "text/plain": [
       "   index      company   body-style  wheel-base  length engine-type  \\\n",
       "0      0  alfa-romero  convertible        88.6   168.8        dohc   \n",
       "1      1  alfa-romero  convertible        88.6   168.8        dohc   \n",
       "2      2  alfa-romero    hatchback        94.5   171.2        ohcv   \n",
       "3      3         audi        sedan        99.8   176.6         ohc   \n",
       "4      4         audi        sedan        99.4   176.6         ohc   \n",
       "\n",
       "  num-of-cylinders  horsepower  average-mileage    price  \n",
       "0             four         111               21  13495.0  \n",
       "1             four         111               21  16500.0  \n",
       "2              six         154               19  16500.0  \n",
       "3             four         102               24  13950.0  \n",
       "4             five         115               18  17450.0  "
      ]
     },
     "execution_count": 11,
     "metadata": {},
     "output_type": "execute_result"
    }
   ],
   "source": [
    "data.head()"
   ]
  },
  {
   "cell_type": "code",
   "execution_count": 12,
   "id": "994e5cb7",
   "metadata": {},
   "outputs": [
    {
     "name": "stdout",
     "output_type": "stream",
     "text": [
      "Manufacturer(s) of the most expensive car(s): ['mercedes-benz']\n"
     ]
    }
   ],
   "source": [
    "import pandas as pd\n",
    "data = pd.read_csv(r\"C:\\Users\\HP PAVILION\\Downloads\\AML\\PBA2\\pba2\\Supervised-Sprint_assessment_data-1147-x-1146\\Automobile_data.csv\")\n",
    "max_price = data['price'].max()\n",
    "most_expensive_cars = data[data['price'] == max_price]\n",
    "manufacturers = most_expensive_cars['company'].unique()\n",
    "print(\"Manufacturer(s) of the most expensive car(s):\", manufacturers)\n"
   ]
  },
  {
   "cell_type": "code",
   "execution_count": 15,
   "id": "5d6d0a6a",
   "metadata": {},
   "outputs": [
    {
     "name": "stdout",
     "output_type": "stream",
     "text": [
      "Average mileage of cars with six-cylinder engines: 17.181818181818183\n"
     ]
    }
   ],
   "source": [
    "six_cylinder_cars = data[data['num-of-cylinders'] == 'six']\n",
    "average_mileage = six_cylinder_cars['average-mileage'].mean()\n",
    "print(\"Average mileage of cars with six-cylinder engines:\", average_mileage)\n"
   ]
  },
  {
   "cell_type": "code",
   "execution_count": 16,
   "id": "3076f7d6",
   "metadata": {},
   "outputs": [
    {
     "name": "stdout",
     "output_type": "stream",
     "text": [
      "Number of sedans with more than 120 horsepower: 10\n"
     ]
    }
   ],
   "source": [
    "sedans_more_than_120hp = data[(data['body-style'] == 'sedan') & (data['horsepower'] > 120)]\n",
    "sedans_count = sedans_more_than_120hp.shape[0]\n",
    "print(\"Number of sedans with more than 120 horsepower:\", sedans_count)\n"
   ]
  },
  {
   "cell_type": "code",
   "execution_count": 18,
   "id": "ce3c378b",
   "metadata": {},
   "outputs": [
    {
     "name": "stdout",
     "output_type": "stream",
     "text": [
      "Average price of vehicles with 6 or fewer cylinders and an average mileage of more than 20: 10074.658536585366\n"
     ]
    }
   ],
   "source": [
    "cylinder_mapping = {\n",
    "    'four': 4,\n",
    "    'six': 6,\n",
    "    'five': 5,\n",
    "    'eight': 8,\n",
    "    'two': 2,\n",
    "    'twelve': 12,\n",
    "    'three': 3\n",
    "}\n",
    "\n",
    "data['num-of-cylinders'] = data['num-of-cylinders'].map(cylinder_mapping)\n",
    "\n",
    "filtered_data = data[(data['num-of-cylinders'] <= 6) & (data['average-mileage'] > 20)]\n",
    "average_price = filtered_data['price'].mean()\n",
    "print(\"Average price of vehicles with 6 or fewer cylinders and an average mileage of more than 20:\", average_price)\n"
   ]
  },
  {
   "cell_type": "code",
   "execution_count": 19,
   "id": "e0af2820",
   "metadata": {},
   "outputs": [],
   "source": [
    "heart = pd.read_csv(r\"C:\\Users\\HP PAVILION\\Downloads\\AML\\PBA2\\pba2\\Supervised-Sprint_assessment_data-1147-x-1146\\heart.csv\")\n",
    "USA_Housing = pd.read_csv(r\"C:\\Users\\HP PAVILION\\Downloads\\AML\\PBA2\\pba2\\Supervised-Sprint_assessment_data-1147-x-1146\\USA_Housing.csv\")"
   ]
  },
  {
   "cell_type": "code",
   "execution_count": null,
   "id": "6d2aa7ff",
   "metadata": {},
   "outputs": [],
   "source": []
  }
 ],
 "metadata": {
  "kernelspec": {
   "display_name": "Python 3 (ipykernel)",
   "language": "python",
   "name": "python3"
  },
  "language_info": {
   "codemirror_mode": {
    "name": "ipython",
    "version": 3
   },
   "file_extension": ".py",
   "mimetype": "text/x-python",
   "name": "python",
   "nbconvert_exporter": "python",
   "pygments_lexer": "ipython3",
   "version": "3.9.7"
  }
 },
 "nbformat": 4,
 "nbformat_minor": 5
}
